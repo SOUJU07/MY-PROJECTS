{
  "nbformat": 4,
  "nbformat_minor": 0,
  "metadata": {
    "colab": {
      "name": "Assignment 4.ipynb",
      "provenance": [],
      "authorship_tag": "ABX9TyNS6De4LOEyfoVH3i9PF655",
      "include_colab_link": true
    },
    "kernelspec": {
      "name": "python3",
      "display_name": "Python 3"
    }
  },
  "cells": [
    {
      "cell_type": "markdown",
      "metadata": {
        "id": "view-in-github",
        "colab_type": "text"
      },
      "source": [
        "<a href=\"https://colab.research.google.com/github/SOUJU07/MY-PROJECTS/blob/master/Assignment_4.ipynb\" target=\"_parent\"><img src=\"https://colab.research.google.com/assets/colab-badge.svg\" alt=\"Open In Colab\"/></a>"
      ]
    },
    {
      "cell_type": "markdown",
      "metadata": {
        "id": "tPLlkoarIHm3",
        "colab_type": "text"
      },
      "source": [
        "1.1 Write a Python Program(with class concepts) to find the area of the triangle using the below\n",
        "formula.\n",
        "area = (s*(s-a)*(s-b)*(s-c)) ** 0.5\n",
        "Function to take the length of the sides of triangle from user should be defined in the parent\n",
        "class and function to calculate the area should be defined in subclass.\n"
      ]
    },
    {
      "cell_type": "code",
      "metadata": {
        "id": "yP0vfV0YIY-F",
        "colab_type": "code",
        "colab": {}
      },
      "source": [
        "#using heron's formula\n",
        "class Area:\n",
        "  \n",
        "  def __init__(self,s,a,b,c):\n",
        "    self.s=s\n",
        "    self.a=a\n",
        "    self.b=b\n",
        "    self.c=c\n",
        "  \n",
        "  def area(self):\n",
        "    return (self.s*(self.s-self.a)*(self.s-self.b)*(self.s-self.c))**0.5  "
      ],
      "execution_count": 55,
      "outputs": []
    },
    {
      "cell_type": "code",
      "metadata": {
        "id": "nRNPl1mdI9rG",
        "colab_type": "code",
        "colab": {
          "base_uri": "https://localhost:8080/",
          "height": 67
        },
        "outputId": "7c94d414-bbe6-45dd-f7de-8f4b46b91e8c"
      },
      "source": [
        "x=float(input(\"Enter one side of triangle:\"))\n",
        "y=float(input(\"Enter second side of triangle:\"))\n",
        "z=float(input(\"Enter third side of triangle:\"))\n",
        "sem=(x+y+z)/2\n",
        "\n",
        "area_of_tri=Area(sem,x,y,z)"
      ],
      "execution_count": 56,
      "outputs": [
        {
          "output_type": "stream",
          "text": [
            "Enter one side of triangle:2\n",
            "Enter second side of triangle:2\n",
            "Enter third side of triangle:2\n"
          ],
          "name": "stdout"
        }
      ]
    },
    {
      "cell_type": "code",
      "metadata": {
        "id": "q-oUVhSLJuJL",
        "colab_type": "code",
        "colab": {
          "base_uri": "https://localhost:8080/",
          "height": 34
        },
        "outputId": "decac3eb-61b9-4027-cd9a-0e70aeef6fa2"
      },
      "source": [
        "area_of_tri.area()"
      ],
      "execution_count": 57,
      "outputs": [
        {
          "output_type": "execute_result",
          "data": {
            "text/plain": [
              "1.7320508075688772"
            ]
          },
          "metadata": {
            "tags": []
          },
          "execution_count": 57
        }
      ]
    },
    {
      "cell_type": "markdown",
      "metadata": {
        "id": "XHHtpOZdK2iP",
        "colab_type": "text"
      },
      "source": [
        "1.2 Write a function filter_long_words() that takes a list of words and an integer n and returns\n",
        "the list of words that are longer than n.\n"
      ]
    },
    {
      "cell_type": "code",
      "metadata": {
        "id": "EMeWgI-tK7az",
        "colab_type": "code",
        "colab": {}
      },
      "source": [
        "def filter_long_words(a,b):\n",
        "  lis=[]\n",
        "  for i in range(len(a)):\n",
        "    if len(a[i])>b:\n",
        "      lis.append(a[i])\n",
        "    else:\n",
        "      continue\n",
        "  print(lis)\n"
      ],
      "execution_count": 58,
      "outputs": []
    },
    {
      "cell_type": "code",
      "metadata": {
        "id": "IHpqO7NQLpTP",
        "colab_type": "code",
        "colab": {
          "base_uri": "https://localhost:8080/",
          "height": 50
        },
        "outputId": "3ac395b2-8ba4-41e6-ff94-c1fea67b8e05"
      },
      "source": [
        "word=[\"soujanya\",'tuku','kalita','bab','ineuron','ml']\n",
        "num=int(input(\"Enter a no.:\"))\n",
        "\n",
        "filter_long_words(word,num)\n"
      ],
      "execution_count": 59,
      "outputs": [
        {
          "output_type": "stream",
          "text": [
            "Enter a no.:4\n",
            "['soujanya', 'kalita', 'ineuron']\n"
          ],
          "name": "stdout"
        }
      ]
    },
    {
      "cell_type": "markdown",
      "metadata": {
        "id": "Ba7Nexw6M6i5",
        "colab_type": "text"
      },
      "source": [
        "2.1 Write a Python program using function concept that maps list of words into a list of integers\n",
        "representing the lengths of the corresponding words.\n",
        "Hint: If a list [ ab,cde,erty] is passed on to the python function output should come as [2,3,4]\n",
        "Here 2,3 and 4 are the lengths of the words in the list\n"
      ]
    },
    {
      "cell_type": "code",
      "metadata": {
        "id": "SE-UzvERM9Gr",
        "colab_type": "code",
        "colab": {}
      },
      "source": [
        "def li(a):\n",
        "  return len(a)"
      ],
      "execution_count": 60,
      "outputs": []
    },
    {
      "cell_type": "code",
      "metadata": {
        "id": "kEpq3Mv2NQaW",
        "colab_type": "code",
        "colab": {
          "base_uri": "https://localhost:8080/",
          "height": 34
        },
        "outputId": "bb35586a-8bdb-4578-bc4c-435af6c761fb"
      },
      "source": [
        "lis=[\"soujanya\",'tuku','kalita','bab','ineuron','ml']\n",
        "num=list(map(li,lis))\n",
        "num"
      ],
      "execution_count": 61,
      "outputs": [
        {
          "output_type": "execute_result",
          "data": {
            "text/plain": [
              "[8, 4, 6, 3, 7, 2]"
            ]
          },
          "metadata": {
            "tags": []
          },
          "execution_count": 61
        }
      ]
    },
    {
      "cell_type": "markdown",
      "metadata": {
        "id": "qZbHAFxoOIOY",
        "colab_type": "text"
      },
      "source": [
        "2.2 Write a Python function which takes a character (i.e. a string of length 1) and returns True if\n",
        "it is a vowel, False otherwise."
      ]
    },
    {
      "cell_type": "code",
      "metadata": {
        "id": "ERA86_r-ONna",
        "colab_type": "code",
        "colab": {}
      },
      "source": [
        "def cha(some):\n",
        "  if some in ['a','e','i','o','u']:\n",
        "    return True\n",
        "  else:\n",
        "    return False"
      ],
      "execution_count": 62,
      "outputs": []
    },
    {
      "cell_type": "code",
      "metadata": {
        "id": "O5k2L0HbOfmH",
        "colab_type": "code",
        "colab": {
          "base_uri": "https://localhost:8080/",
          "height": 50
        },
        "outputId": "a763ed8d-1d04-429c-e99f-959e7e37f303"
      },
      "source": [
        "string=str(input(\"Enter  a single character:\"))\n",
        "cha(string)\n"
      ],
      "execution_count": 71,
      "outputs": [
        {
          "output_type": "stream",
          "text": [
            "Enter  a single character:e\n"
          ],
          "name": "stdout"
        },
        {
          "output_type": "execute_result",
          "data": {
            "text/plain": [
              "True"
            ]
          },
          "metadata": {
            "tags": []
          },
          "execution_count": 71
        }
      ]
    },
    {
      "cell_type": "code",
      "metadata": {
        "id": "-jYQLuYzOvCj",
        "colab_type": "code",
        "colab": {}
      },
      "source": [
        ""
      ],
      "execution_count": null,
      "outputs": []
    }
  ]
}