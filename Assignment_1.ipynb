{
  "nbformat": 4,
  "nbformat_minor": 0,
  "metadata": {
    "colab": {
      "name": "Assignment 1.ipynb",
      "provenance": [],
      "authorship_tag": "ABX9TyPppNc7aP+43chqHUuNMshT",
      "include_colab_link": true
    },
    "kernelspec": {
      "name": "python3",
      "display_name": "Python 3"
    }
  },
  "cells": [
    {
      "cell_type": "markdown",
      "metadata": {
        "id": "view-in-github",
        "colab_type": "text"
      },
      "source": [
        "<a href=\"https://colab.research.google.com/github/SOUJU07/MY-PROJECTS/blob/master/Assignment_1.ipynb\" target=\"_parent\"><img src=\"https://colab.research.google.com/assets/colab-badge.svg\" alt=\"Open In Colab\"/></a>"
      ]
    },
    {
      "cell_type": "markdown",
      "metadata": {
        "id": "fVhaqi9nr_ou",
        "colab_type": "text"
      },
      "source": [
        "1 Write a program which will find all such numbers which are divisible by 7 but are not a multiple of 5, between 2000 and 3200 (both included). The numbers obtained should be printed in a comma-separated sequence on a single line. "
      ]
    },
    {
      "cell_type": "code",
      "metadata": {
        "id": "OEG4C8c2rQr5",
        "colab_type": "code",
        "colab": {
          "base_uri": "https://localhost:8080/",
          "height": 54
        },
        "outputId": "42dc0624-0343-4891-de6b-6e47c4dcba3a"
      },
      "source": [
        "num=[]\n",
        "for i in range(2000,3201):\n",
        "  if i%7==0 and i%5!=0:\n",
        "    num.append(i)\n",
        "print(num)"
      ],
      "execution_count": 8,
      "outputs": [
        {
          "output_type": "stream",
          "text": [
            "[2002, 2009, 2016, 2023, 2037, 2044, 2051, 2058, 2072, 2079, 2086, 2093, 2107, 2114, 2121, 2128, 2142, 2149, 2156, 2163, 2177, 2184, 2191, 2198, 2212, 2219, 2226, 2233, 2247, 2254, 2261, 2268, 2282, 2289, 2296, 2303, 2317, 2324, 2331, 2338, 2352, 2359, 2366, 2373, 2387, 2394, 2401, 2408, 2422, 2429, 2436, 2443, 2457, 2464, 2471, 2478, 2492, 2499, 2506, 2513, 2527, 2534, 2541, 2548, 2562, 2569, 2576, 2583, 2597, 2604, 2611, 2618, 2632, 2639, 2646, 2653, 2667, 2674, 2681, 2688, 2702, 2709, 2716, 2723, 2737, 2744, 2751, 2758, 2772, 2779, 2786, 2793, 2807, 2814, 2821, 2828, 2842, 2849, 2856, 2863, 2877, 2884, 2891, 2898, 2912, 2919, 2926, 2933, 2947, 2954, 2961, 2968, 2982, 2989, 2996, 3003, 3017, 3024, 3031, 3038, 3052, 3059, 3066, 3073, 3087, 3094, 3101, 3108, 3122, 3129, 3136, 3143, 3157, 3164, 3171, 3178, 3192, 3199]\n"
          ],
          "name": "stdout"
        }
      ]
    },
    {
      "cell_type": "markdown",
      "metadata": {
        "id": "yEwvfRGwtZgQ",
        "colab_type": "text"
      },
      "source": [
        "2 Write a Python program to accept the user's first and last name and then getting them printed in the the reverse order with a space between first name and last name."
      ]
    },
    {
      "cell_type": "code",
      "metadata": {
        "id": "6cTZoT8RtkeJ",
        "colab_type": "code",
        "colab": {
          "base_uri": "https://localhost:8080/",
          "height": 101
        },
        "outputId": "6032019b-6146-4340-a2c2-d6c8071ba2ae"
      },
      "source": [
        "f_name=input(\"Enter the first name: \")\n",
        "l_name=input(\"Enter the last name: \")\n",
        "name=[f_name,l_name]\n",
        "print(name)\n",
        "name.reverse() #reverse the name in list\n",
        "print(name)\n",
        "a=' '.join(name) #change list into string with space in between\n",
        "print(a)"
      ],
      "execution_count": 35,
      "outputs": [
        {
          "output_type": "stream",
          "text": [
            "Enter the first name: Soujanya \n",
            "Enter the last name: Kalita\n",
            "['Soujanya ', 'Kalita']\n",
            "['Kalita', 'Soujanya ']\n",
            "Kalita Soujanya \n"
          ],
          "name": "stdout"
        }
      ]
    },
    {
      "cell_type": "markdown",
      "metadata": {
        "id": "2jkJlA-qwCSE",
        "colab_type": "text"
      },
      "source": [
        "3 Write a Python program to find the volume of a sphere with diameter 12 cm.\n",
        "Formula: V=4/3 * π * r**3 "
      ]
    },
    {
      "cell_type": "code",
      "metadata": {
        "id": "BCVOqzeUwPdB",
        "colab_type": "code",
        "colab": {
          "base_uri": "https://localhost:8080/",
          "height": 34
        },
        "outputId": "110a16ae-9662-4095-bf5e-d1b4e946147b"
      },
      "source": [
        "D=12\n",
        "r=D/2\n",
        "pi=3.14\n",
        "V=4/3*pi*r**3\n",
        "V"
      ],
      "execution_count": 36,
      "outputs": [
        {
          "output_type": "execute_result",
          "data": {
            "text/plain": [
              "904.3199999999999"
            ]
          },
          "metadata": {
            "tags": []
          },
          "execution_count": 36
        }
      ]
    },
    {
      "cell_type": "code",
      "metadata": {
        "id": "eNc16Oiswla1",
        "colab_type": "code",
        "colab": {}
      },
      "source": [
        ""
      ],
      "execution_count": null,
      "outputs": []
    }
  ]
}